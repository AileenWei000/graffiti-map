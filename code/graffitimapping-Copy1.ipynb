{
 "cells": [
  {
   "cell_type": "code",
   "execution_count": 22,
   "id": "4b90eaa8-18c5-4ba2-9b1f-ad03861ba4d1",
   "metadata": {},
   "outputs": [],
   "source": [
    "pip install pandas\n",
    "pip install folium\n",
    "import pandas as pd\n",
    "import folium\n",
    "\n",
    "# load data\n",
    "data_path = '../data/mapping/tomap_data.xlsx' \n",
    "data = pd.read_excel(data_path)\n",
    "\n",
    "# create basic map\n",
    "m = folium.Map(location=[data['latitude'].mean(), data['longtitude'].mean()], zoom_start=12)\n",
    "\n",
    "for index, row in data.iterrows():\n",
    "    image_filename = row['imgnames']\n",
    "    image_path = f\"../data/mapping/graffitiinjpg/{image_filename}\" \n",
    "    \n",
    "    lang = row['language total']\n",
    "    if pd.isna(lang):\n",
    "        color = 'gray'  \n",
    "    elif 'EN' in lang:\n",
    "        color = 'blue'  \n",
    "    elif 'SE' in lang:\n",
    "        color = 'green'  \n",
    "    else:\n",
    "        color = 'red' \n",
    "        \n",
    "    language = row['language'] if not pd.isna(row['language']) else \"Unknown\"  \n",
    "    content = row['content'] if not pd.isna(row['content']) else \"No content\"  \n",
    "\n",
    "    # create popup\n",
    "    popup_html = f\"\"\"\n",
    "    <div style=\"width:150px;\"><img src=\"{image_path}\" alt=\"image\" width=\"100%\" style=\"margin-bottom:10px;\">\n",
    "    <p><b>Language:</b> {language}</p>\n",
    "    <p><b>Content:</b> {content}</p></div>\n",
    "    \"\"\"\n",
    "\n",
    "    popup = folium.Popup(popup_html, max_width=300)\n",
    "    folium.Marker(\n",
    "        location=[row['latitude'], row['longtitude']],\n",
    "        popup=popup,\n",
    "        icon=folium.Icon(color=color) \n",
    "    )\n",
    "\n",
    "# save to html\n",
    "map_file_path = '../data/linguistic_landscape_map2.html'  \n",
    "m.save(map_file_path)\n"
   ]
  },
  {
   "cell_type": "code",
   "execution_count": null,
   "id": "274b1513-e001-444a-822d-772e4ee5bc35",
   "metadata": {},
   "outputs": [],
   "source": []
  }
 ],
 "metadata": {
  "kernelspec": {
   "display_name": "Python 3 (ipykernel)",
   "language": "python",
   "name": "python3"
  },
  "language_info": {
   "codemirror_mode": {
    "name": "ipython",
    "version": 3
   },
   "file_extension": ".py",
   "mimetype": "text/x-python",
   "name": "python",
   "nbconvert_exporter": "python",
   "pygments_lexer": "ipython3",
   "version": "3.10.13"
  }
 },
 "nbformat": 4,
 "nbformat_minor": 5
}
